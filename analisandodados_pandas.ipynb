{
  "nbformat": 4,
  "nbformat_minor": 0,
  "metadata": {
    "colab": {
      "name": "analisandodados_pandas.ipynb",
      "provenance": [],
      "collapsed_sections": [],
      "toc_visible": true,
      "authorship_tag": "ABX9TyPvesJDH5IcrUq5sS2ZR0eZ"
    },
    "kernelspec": {
      "name": "python3",
      "display_name": "Python 3"
    },
    "language_info": {
      "name": "python"
    }
  },
  "cells": [
    {
      "cell_type": "markdown",
      "metadata": {
        "id": "mCrtn3kxOFb7"
      },
      "source": [
        "\n",
        "# Analisando dados do ENADE 2019\n"
      ]
    },
    {
      "cell_type": "markdown",
      "metadata": {
        "id": "-CahrjtumQpw"
      },
      "source": [
        "Os dados estão disponíveis em https://www.gov.br/inep/pt-br/acesso-a-informacao/dados-abertos/microdados/enade\n"
      ]
    },
    {
      "cell_type": "code",
      "metadata": {
        "id": "wjRfBLSlOS43"
      },
      "source": [
        "# importando bibliotecas \n",
        "import pandas as pd\n",
        "import numpy as np"
      ],
      "execution_count": 1,
      "outputs": []
    },
    {
      "cell_type": "code",
      "metadata": {
        "id": "FZNQiRkrOYtT",
        "colab": {
          "base_uri": "https://localhost:8080/"
        },
        "outputId": "42bebd7d-695d-4205-f6f4-adf13bdd28dd"
      },
      "source": [
        "#este arquivo pode ser encontrado dentro da pasta DADOS, depois de baixar a pasta do Enade 2019 encontrado no link acima\n",
        "with open('microdados_enade_2019.txt', 'r') as f:\n",
        "    # Usando a expressão regular para o separador indicando que eles são os\n",
        "    # espaços em braco\n",
        "    df = pd.read_table(f, sep=';')\n",
        "    print(df)"
      ],
      "execution_count": 13,
      "outputs": [
        {
          "output_type": "stream",
          "text": [
            "/usr/local/lib/python3.7/dist-packages/IPython/core/interactiveshell.py:2822: DtypeWarning: Columns (57,59) have mixed types.Specify dtype option on import or set low_memory=False.\n",
            "  if self.run_code(code, result):\n"
          ],
          "name": "stderr"
        },
        {
          "output_type": "stream",
          "text": [
            "       NU_ANO  CO_IES  CO_CATEGAD  CO_ORGACAD  ...  QE_I65  QE_I66  QE_I67  QE_I68\n",
            "0        2019       1       10002       10028  ...     8.0     7.0     1.0     2.0\n",
            "1        2019       1       10002       10028  ...     4.0     4.0     2.0     2.0\n",
            "2        2019       1       10002       10028  ...     1.0     1.0     1.0     4.0\n",
            "3        2019       1       10002       10028  ...     3.0     4.0     3.0     3.0\n",
            "4        2019       1       10002       10028  ...     NaN     NaN     NaN     NaN\n",
            "...       ...     ...         ...         ...  ...     ...     ...     ...     ...\n",
            "41303    2019     569       10002       10028  ...     4.0     4.0     4.0     4.0\n",
            "41304    2019     569       10002       10028  ...     5.0     5.0     4.0     5.0\n",
            "41305    2019     569       10002       10028  ...     8.0     8.0     5.0     5.0\n",
            "41306    2019     569       10002       10028  ...     4.0     8.0     4.0     3.0\n",
            "41307    2019     569       10002       10028  ...     NaN     NaN     NaN     NaN\n",
            "\n",
            "[41308 rows x 137 columns]\n"
          ],
          "name": "stdout"
        }
      ]
    },
    {
      "cell_type": "code",
      "metadata": {
        "colab": {
          "base_uri": "https://localhost:8080/",
          "height": 253
        },
        "id": "PkOCDBbgaA0H",
        "outputId": "c1d5d3aa-28df-4c80-b893-44d64b1bd5c2"
      },
      "source": [
        "df.head()"
      ],
      "execution_count": 14,
      "outputs": [
        {
          "output_type": "execute_result",
          "data": {
            "text/html": [
              "<div>\n",
              "<style scoped>\n",
              "    .dataframe tbody tr th:only-of-type {\n",
              "        vertical-align: middle;\n",
              "    }\n",
              "\n",
              "    .dataframe tbody tr th {\n",
              "        vertical-align: top;\n",
              "    }\n",
              "\n",
              "    .dataframe thead th {\n",
              "        text-align: right;\n",
              "    }\n",
              "</style>\n",
              "<table border=\"1\" class=\"dataframe\">\n",
              "  <thead>\n",
              "    <tr style=\"text-align: right;\">\n",
              "      <th></th>\n",
              "      <th>NU_ANO</th>\n",
              "      <th>CO_IES</th>\n",
              "      <th>CO_CATEGAD</th>\n",
              "      <th>CO_ORGACAD</th>\n",
              "      <th>CO_GRUPO</th>\n",
              "      <th>CO_CURSO</th>\n",
              "      <th>CO_MODALIDADE</th>\n",
              "      <th>CO_MUNIC_CURSO</th>\n",
              "      <th>CO_UF_CURSO</th>\n",
              "      <th>CO_REGIAO_CURSO</th>\n",
              "      <th>NU_IDADE</th>\n",
              "      <th>TP_SEXO</th>\n",
              "      <th>ANO_FIM_EM</th>\n",
              "      <th>ANO_IN_GRAD</th>\n",
              "      <th>CO_TURNO_GRADUACAO</th>\n",
              "      <th>TP_INSCRICAO_ADM</th>\n",
              "      <th>TP_INSCRICAO</th>\n",
              "      <th>NU_ITEM_OFG</th>\n",
              "      <th>NU_ITEM_OFG_Z</th>\n",
              "      <th>NU_ITEM_OFG_X</th>\n",
              "      <th>NU_ITEM_OFG_N</th>\n",
              "      <th>NU_ITEM_OCE</th>\n",
              "      <th>NU_ITEM_OCE_Z</th>\n",
              "      <th>NU_ITEM_OCE_X</th>\n",
              "      <th>NU_ITEM_OCE_N</th>\n",
              "      <th>DS_VT_GAB_OFG_ORIG</th>\n",
              "      <th>DS_VT_GAB_OFG_FIN</th>\n",
              "      <th>DS_VT_GAB_OCE_ORIG</th>\n",
              "      <th>DS_VT_GAB_OCE_FIN</th>\n",
              "      <th>DS_VT_ESC_OFG</th>\n",
              "      <th>DS_VT_ACE_OFG</th>\n",
              "      <th>DS_VT_ESC_OCE</th>\n",
              "      <th>DS_VT_ACE_OCE</th>\n",
              "      <th>TP_PRES</th>\n",
              "      <th>TP_PR_GER</th>\n",
              "      <th>TP_PR_OB_FG</th>\n",
              "      <th>TP_PR_DI_FG</th>\n",
              "      <th>TP_PR_OB_CE</th>\n",
              "      <th>TP_PR_DI_CE</th>\n",
              "      <th>TP_SFG_D1</th>\n",
              "      <th>...</th>\n",
              "      <th>QE_I29</th>\n",
              "      <th>QE_I30</th>\n",
              "      <th>QE_I31</th>\n",
              "      <th>QE_I32</th>\n",
              "      <th>QE_I33</th>\n",
              "      <th>QE_I34</th>\n",
              "      <th>QE_I35</th>\n",
              "      <th>QE_I36</th>\n",
              "      <th>QE_I37</th>\n",
              "      <th>QE_I38</th>\n",
              "      <th>QE_I39</th>\n",
              "      <th>QE_I40</th>\n",
              "      <th>QE_I41</th>\n",
              "      <th>QE_I42</th>\n",
              "      <th>QE_I43</th>\n",
              "      <th>QE_I44</th>\n",
              "      <th>QE_I45</th>\n",
              "      <th>QE_I46</th>\n",
              "      <th>QE_I47</th>\n",
              "      <th>QE_I48</th>\n",
              "      <th>QE_I49</th>\n",
              "      <th>QE_I50</th>\n",
              "      <th>QE_I51</th>\n",
              "      <th>QE_I52</th>\n",
              "      <th>QE_I53</th>\n",
              "      <th>QE_I54</th>\n",
              "      <th>QE_I55</th>\n",
              "      <th>QE_I56</th>\n",
              "      <th>QE_I57</th>\n",
              "      <th>QE_I58</th>\n",
              "      <th>QE_I59</th>\n",
              "      <th>QE_I60</th>\n",
              "      <th>QE_I61</th>\n",
              "      <th>QE_I62</th>\n",
              "      <th>QE_I63</th>\n",
              "      <th>QE_I64</th>\n",
              "      <th>QE_I65</th>\n",
              "      <th>QE_I66</th>\n",
              "      <th>QE_I67</th>\n",
              "      <th>QE_I68</th>\n",
              "    </tr>\n",
              "  </thead>\n",
              "  <tbody>\n",
              "    <tr>\n",
              "      <th>0</th>\n",
              "      <td>2019</td>\n",
              "      <td>1</td>\n",
              "      <td>10002</td>\n",
              "      <td>10028</td>\n",
              "      <td>5710</td>\n",
              "      <td>3</td>\n",
              "      <td>1</td>\n",
              "      <td>5103403</td>\n",
              "      <td>51</td>\n",
              "      <td>5</td>\n",
              "      <td>27</td>\n",
              "      <td>M</td>\n",
              "      <td>2010</td>\n",
              "      <td>2012</td>\n",
              "      <td>3</td>\n",
              "      <td>1</td>\n",
              "      <td>0</td>\n",
              "      <td>8</td>\n",
              "      <td>1</td>\n",
              "      <td>0</td>\n",
              "      <td>0</td>\n",
              "      <td>27</td>\n",
              "      <td>0</td>\n",
              "      <td>7</td>\n",
              "      <td>0</td>\n",
              "      <td>ZDCBCCDB</td>\n",
              "      <td>ZDCBCCDB</td>\n",
              "      <td>ABECDDEABDECCBCDEBAEDCDBAAA</td>\n",
              "      <td>ABEXDDEABDECXXXDXBAEDCXXAAA</td>\n",
              "      <td>DACBCBDD</td>\n",
              "      <td>80111010</td>\n",
              "      <td>ABEEDDDAADEAEECBBABECCACBAA</td>\n",
              "      <td>111911010110999090010199011</td>\n",
              "      <td>555.0</td>\n",
              "      <td>555.0</td>\n",
              "      <td>555.0</td>\n",
              "      <td>555.0</td>\n",
              "      <td>555.0</td>\n",
              "      <td>555.0</td>\n",
              "      <td>336.0</td>\n",
              "      <td>...</td>\n",
              "      <td>7.0</td>\n",
              "      <td>1.0</td>\n",
              "      <td>3.0</td>\n",
              "      <td>5.0</td>\n",
              "      <td>7.0</td>\n",
              "      <td>7.0</td>\n",
              "      <td>1.0</td>\n",
              "      <td>1.0</td>\n",
              "      <td>2.0</td>\n",
              "      <td>6.0</td>\n",
              "      <td>4.0</td>\n",
              "      <td>1.0</td>\n",
              "      <td>3.0</td>\n",
              "      <td>6.0</td>\n",
              "      <td>1.0</td>\n",
              "      <td>1.0</td>\n",
              "      <td>1.0</td>\n",
              "      <td>1.0</td>\n",
              "      <td>1.0</td>\n",
              "      <td>2.0</td>\n",
              "      <td>2.0</td>\n",
              "      <td>6.0</td>\n",
              "      <td>2.0</td>\n",
              "      <td>1.0</td>\n",
              "      <td>8.0</td>\n",
              "      <td>1.0</td>\n",
              "      <td>3.0</td>\n",
              "      <td>2.0</td>\n",
              "      <td>5.0</td>\n",
              "      <td>6.0</td>\n",
              "      <td>2.0</td>\n",
              "      <td>5.0</td>\n",
              "      <td>1.0</td>\n",
              "      <td>1.0</td>\n",
              "      <td>2.0</td>\n",
              "      <td>5.0</td>\n",
              "      <td>8.0</td>\n",
              "      <td>7.0</td>\n",
              "      <td>1.0</td>\n",
              "      <td>2.0</td>\n",
              "    </tr>\n",
              "    <tr>\n",
              "      <th>1</th>\n",
              "      <td>2019</td>\n",
              "      <td>1</td>\n",
              "      <td>10002</td>\n",
              "      <td>10028</td>\n",
              "      <td>5710</td>\n",
              "      <td>3</td>\n",
              "      <td>1</td>\n",
              "      <td>5103403</td>\n",
              "      <td>51</td>\n",
              "      <td>5</td>\n",
              "      <td>26</td>\n",
              "      <td>M</td>\n",
              "      <td>2009</td>\n",
              "      <td>2015</td>\n",
              "      <td>3</td>\n",
              "      <td>1</td>\n",
              "      <td>0</td>\n",
              "      <td>8</td>\n",
              "      <td>1</td>\n",
              "      <td>0</td>\n",
              "      <td>0</td>\n",
              "      <td>27</td>\n",
              "      <td>0</td>\n",
              "      <td>7</td>\n",
              "      <td>0</td>\n",
              "      <td>ZDCBCCDB</td>\n",
              "      <td>ZDCBCCDB</td>\n",
              "      <td>ABECDDEABDECCBCDEBAEDCDBAAA</td>\n",
              "      <td>ABEXDDEABDECXXXDXBAEDCXXAAA</td>\n",
              "      <td>CDCBDCBC</td>\n",
              "      <td>81110100</td>\n",
              "      <td>ABCECDEBAABCCCDDDBAEDCBADDA</td>\n",
              "      <td>110901100001999191111199001</td>\n",
              "      <td>555.0</td>\n",
              "      <td>555.0</td>\n",
              "      <td>555.0</td>\n",
              "      <td>555.0</td>\n",
              "      <td>555.0</td>\n",
              "      <td>555.0</td>\n",
              "      <td>555.0</td>\n",
              "      <td>...</td>\n",
              "      <td>2.0</td>\n",
              "      <td>1.0</td>\n",
              "      <td>3.0</td>\n",
              "      <td>2.0</td>\n",
              "      <td>3.0</td>\n",
              "      <td>3.0</td>\n",
              "      <td>1.0</td>\n",
              "      <td>2.0</td>\n",
              "      <td>1.0</td>\n",
              "      <td>2.0</td>\n",
              "      <td>3.0</td>\n",
              "      <td>2.0</td>\n",
              "      <td>1.0</td>\n",
              "      <td>6.0</td>\n",
              "      <td>1.0</td>\n",
              "      <td>1.0</td>\n",
              "      <td>1.0</td>\n",
              "      <td>1.0</td>\n",
              "      <td>2.0</td>\n",
              "      <td>1.0</td>\n",
              "      <td>2.0</td>\n",
              "      <td>5.0</td>\n",
              "      <td>3.0</td>\n",
              "      <td>1.0</td>\n",
              "      <td>2.0</td>\n",
              "      <td>7.0</td>\n",
              "      <td>2.0</td>\n",
              "      <td>1.0</td>\n",
              "      <td>4.0</td>\n",
              "      <td>3.0</td>\n",
              "      <td>1.0</td>\n",
              "      <td>4.0</td>\n",
              "      <td>2.0</td>\n",
              "      <td>2.0</td>\n",
              "      <td>2.0</td>\n",
              "      <td>5.0</td>\n",
              "      <td>4.0</td>\n",
              "      <td>4.0</td>\n",
              "      <td>2.0</td>\n",
              "      <td>2.0</td>\n",
              "    </tr>\n",
              "    <tr>\n",
              "      <th>2</th>\n",
              "      <td>2019</td>\n",
              "      <td>1</td>\n",
              "      <td>10002</td>\n",
              "      <td>10028</td>\n",
              "      <td>5710</td>\n",
              "      <td>3</td>\n",
              "      <td>1</td>\n",
              "      <td>5103403</td>\n",
              "      <td>51</td>\n",
              "      <td>5</td>\n",
              "      <td>23</td>\n",
              "      <td>M</td>\n",
              "      <td>2012</td>\n",
              "      <td>2016</td>\n",
              "      <td>3</td>\n",
              "      <td>1</td>\n",
              "      <td>0</td>\n",
              "      <td>8</td>\n",
              "      <td>1</td>\n",
              "      <td>0</td>\n",
              "      <td>0</td>\n",
              "      <td>27</td>\n",
              "      <td>0</td>\n",
              "      <td>7</td>\n",
              "      <td>0</td>\n",
              "      <td>ZDCBCCDB</td>\n",
              "      <td>ZDCBCCDB</td>\n",
              "      <td>ABECDDEABDECCBCDEBAEDCDBAAA</td>\n",
              "      <td>ABEXDDEABDECXXXDXBAEDCXXAAA</td>\n",
              "      <td></td>\n",
              "      <td></td>\n",
              "      <td></td>\n",
              "      <td></td>\n",
              "      <td>222.0</td>\n",
              "      <td>222.0</td>\n",
              "      <td>222.0</td>\n",
              "      <td>222.0</td>\n",
              "      <td>222.0</td>\n",
              "      <td>222.0</td>\n",
              "      <td>222.0</td>\n",
              "      <td>...</td>\n",
              "      <td>2.0</td>\n",
              "      <td>1.0</td>\n",
              "      <td>3.0</td>\n",
              "      <td>2.0</td>\n",
              "      <td>2.0</td>\n",
              "      <td>2.0</td>\n",
              "      <td>2.0</td>\n",
              "      <td>2.0</td>\n",
              "      <td>1.0</td>\n",
              "      <td>1.0</td>\n",
              "      <td>2.0</td>\n",
              "      <td>1.0</td>\n",
              "      <td>2.0</td>\n",
              "      <td>6.0</td>\n",
              "      <td>1.0</td>\n",
              "      <td>1.0</td>\n",
              "      <td>1.0</td>\n",
              "      <td>4.0</td>\n",
              "      <td>1.0</td>\n",
              "      <td>1.0</td>\n",
              "      <td>2.0</td>\n",
              "      <td>6.0</td>\n",
              "      <td>3.0</td>\n",
              "      <td>1.0</td>\n",
              "      <td>1.0</td>\n",
              "      <td>2.0</td>\n",
              "      <td>2.0</td>\n",
              "      <td>2.0</td>\n",
              "      <td>5.0</td>\n",
              "      <td>2.0</td>\n",
              "      <td>3.0</td>\n",
              "      <td>4.0</td>\n",
              "      <td>4.0</td>\n",
              "      <td>3.0</td>\n",
              "      <td>3.0</td>\n",
              "      <td>4.0</td>\n",
              "      <td>1.0</td>\n",
              "      <td>1.0</td>\n",
              "      <td>1.0</td>\n",
              "      <td>4.0</td>\n",
              "    </tr>\n",
              "    <tr>\n",
              "      <th>3</th>\n",
              "      <td>2019</td>\n",
              "      <td>1</td>\n",
              "      <td>10002</td>\n",
              "      <td>10028</td>\n",
              "      <td>5710</td>\n",
              "      <td>3</td>\n",
              "      <td>1</td>\n",
              "      <td>5103403</td>\n",
              "      <td>51</td>\n",
              "      <td>5</td>\n",
              "      <td>24</td>\n",
              "      <td>M</td>\n",
              "      <td>2013</td>\n",
              "      <td>2014</td>\n",
              "      <td>3</td>\n",
              "      <td>1</td>\n",
              "      <td>0</td>\n",
              "      <td>8</td>\n",
              "      <td>1</td>\n",
              "      <td>0</td>\n",
              "      <td>0</td>\n",
              "      <td>27</td>\n",
              "      <td>0</td>\n",
              "      <td>7</td>\n",
              "      <td>0</td>\n",
              "      <td>ZDCBCCDB</td>\n",
              "      <td>ZDCBCCDB</td>\n",
              "      <td>ABECDDEABDECCBCDEBAEDCDBAAA</td>\n",
              "      <td>ABEXDDEABDECXXXDXBAEDCXXAAA</td>\n",
              "      <td>ADCCACEB</td>\n",
              "      <td>81100101</td>\n",
              "      <td>EEEEAEDABAEADAEDACABDCCCDDC</td>\n",
              "      <td>001900011010999190101199000</td>\n",
              "      <td>555.0</td>\n",
              "      <td>555.0</td>\n",
              "      <td>555.0</td>\n",
              "      <td>555.0</td>\n",
              "      <td>555.0</td>\n",
              "      <td>555.0</td>\n",
              "      <td>555.0</td>\n",
              "      <td>...</td>\n",
              "      <td>3.0</td>\n",
              "      <td>2.0</td>\n",
              "      <td>4.0</td>\n",
              "      <td>5.0</td>\n",
              "      <td>5.0</td>\n",
              "      <td>4.0</td>\n",
              "      <td>5.0</td>\n",
              "      <td>4.0</td>\n",
              "      <td>3.0</td>\n",
              "      <td>2.0</td>\n",
              "      <td>3.0</td>\n",
              "      <td>3.0</td>\n",
              "      <td>4.0</td>\n",
              "      <td>6.0</td>\n",
              "      <td>4.0</td>\n",
              "      <td>4.0</td>\n",
              "      <td>8.0</td>\n",
              "      <td>3.0</td>\n",
              "      <td>3.0</td>\n",
              "      <td>2.0</td>\n",
              "      <td>2.0</td>\n",
              "      <td>8.0</td>\n",
              "      <td>8.0</td>\n",
              "      <td>3.0</td>\n",
              "      <td>1.0</td>\n",
              "      <td>1.0</td>\n",
              "      <td>3.0</td>\n",
              "      <td>3.0</td>\n",
              "      <td>4.0</td>\n",
              "      <td>3.0</td>\n",
              "      <td>3.0</td>\n",
              "      <td>5.0</td>\n",
              "      <td>2.0</td>\n",
              "      <td>2.0</td>\n",
              "      <td>2.0</td>\n",
              "      <td>3.0</td>\n",
              "      <td>3.0</td>\n",
              "      <td>4.0</td>\n",
              "      <td>3.0</td>\n",
              "      <td>3.0</td>\n",
              "    </tr>\n",
              "    <tr>\n",
              "      <th>4</th>\n",
              "      <td>2019</td>\n",
              "      <td>1</td>\n",
              "      <td>10002</td>\n",
              "      <td>10028</td>\n",
              "      <td>5710</td>\n",
              "      <td>3</td>\n",
              "      <td>1</td>\n",
              "      <td>5103403</td>\n",
              "      <td>51</td>\n",
              "      <td>5</td>\n",
              "      <td>41</td>\n",
              "      <td>M</td>\n",
              "      <td>2012</td>\n",
              "      <td>2013</td>\n",
              "      <td>3</td>\n",
              "      <td>1</td>\n",
              "      <td>0</td>\n",
              "      <td>8</td>\n",
              "      <td>1</td>\n",
              "      <td>0</td>\n",
              "      <td>0</td>\n",
              "      <td>27</td>\n",
              "      <td>0</td>\n",
              "      <td>7</td>\n",
              "      <td>0</td>\n",
              "      <td>ZDCBCCDB</td>\n",
              "      <td>ZDCBCCDB</td>\n",
              "      <td>ABECDDEABDECCBCDEBAEDCDBAAA</td>\n",
              "      <td>ABEXDDEABDECXXXDXBAEDCXXAAA</td>\n",
              "      <td></td>\n",
              "      <td></td>\n",
              "      <td></td>\n",
              "      <td></td>\n",
              "      <td>222.0</td>\n",
              "      <td>222.0</td>\n",
              "      <td>222.0</td>\n",
              "      <td>222.0</td>\n",
              "      <td>222.0</td>\n",
              "      <td>222.0</td>\n",
              "      <td>222.0</td>\n",
              "      <td>...</td>\n",
              "      <td>NaN</td>\n",
              "      <td>NaN</td>\n",
              "      <td>NaN</td>\n",
              "      <td>NaN</td>\n",
              "      <td>NaN</td>\n",
              "      <td>NaN</td>\n",
              "      <td>NaN</td>\n",
              "      <td>NaN</td>\n",
              "      <td>NaN</td>\n",
              "      <td>NaN</td>\n",
              "      <td>NaN</td>\n",
              "      <td>NaN</td>\n",
              "      <td>NaN</td>\n",
              "      <td>NaN</td>\n",
              "      <td>NaN</td>\n",
              "      <td>NaN</td>\n",
              "      <td>NaN</td>\n",
              "      <td>NaN</td>\n",
              "      <td>NaN</td>\n",
              "      <td>NaN</td>\n",
              "      <td>NaN</td>\n",
              "      <td>NaN</td>\n",
              "      <td>NaN</td>\n",
              "      <td>NaN</td>\n",
              "      <td>NaN</td>\n",
              "      <td>NaN</td>\n",
              "      <td>NaN</td>\n",
              "      <td>NaN</td>\n",
              "      <td>NaN</td>\n",
              "      <td>NaN</td>\n",
              "      <td>NaN</td>\n",
              "      <td>NaN</td>\n",
              "      <td>NaN</td>\n",
              "      <td>NaN</td>\n",
              "      <td>NaN</td>\n",
              "      <td>NaN</td>\n",
              "      <td>NaN</td>\n",
              "      <td>NaN</td>\n",
              "      <td>NaN</td>\n",
              "      <td>NaN</td>\n",
              "    </tr>\n",
              "  </tbody>\n",
              "</table>\n",
              "<p>5 rows × 137 columns</p>\n",
              "</div>"
            ],
            "text/plain": [
              "   NU_ANO  CO_IES  CO_CATEGAD  CO_ORGACAD  ...  QE_I65  QE_I66  QE_I67  QE_I68\n",
              "0    2019       1       10002       10028  ...     8.0     7.0     1.0     2.0\n",
              "1    2019       1       10002       10028  ...     4.0     4.0     2.0     2.0\n",
              "2    2019       1       10002       10028  ...     1.0     1.0     1.0     4.0\n",
              "3    2019       1       10002       10028  ...     3.0     4.0     3.0     3.0\n",
              "4    2019       1       10002       10028  ...     NaN     NaN     NaN     NaN\n",
              "\n",
              "[5 rows x 137 columns]"
            ]
          },
          "metadata": {
            "tags": []
          },
          "execution_count": 14
        }
      ]
    },
    {
      "cell_type": "code",
      "metadata": {
        "colab": {
          "base_uri": "https://localhost:8080/"
        },
        "id": "NfijMgKPcRaa",
        "outputId": "d38f5f0d-6f15-4ec4-f59b-7f6b1ea6d11b"
      },
      "source": [
        "contador = 0\n",
        "for i in df['NU_IDADE']:\n",
        "  if i>70:\n",
        "    print(df)\n",
        "    contador+=1\n",
        "print(\"{} pessoas maiores de 70 fizeram o Enade 2019\".format(contador))\n",
        "#no entanto nem todos os candidatos que estam no arquivo estavam presentes, a coluna TP_PRES\n",
        "#especificada nos microdados do Enade definem 555 = Presente com resultado válido e 556 = Presente com resultado desconsiderado pela Aplicadora"
      ],
      "execution_count": 16,
      "outputs": [
        {
          "output_type": "stream",
          "text": [
            "3 pessoas maiores de 70 fizeram o Enade 2019\n"
          ],
          "name": "stdout"
        }
      ]
    },
    {
      "cell_type": "code",
      "metadata": {
        "colab": {
          "base_uri": "https://localhost:8080/"
        },
        "id": "8o_5qGtseNQg",
        "outputId": "0e0f398c-6637-4d24-9bcd-a7510f7dc9f3"
      },
      "source": [
        "df.columns"
      ],
      "execution_count": 17,
      "outputs": [
        {
          "output_type": "execute_result",
          "data": {
            "text/plain": [
              "Index(['NU_ANO', 'CO_IES', 'CO_CATEGAD', 'CO_ORGACAD', 'CO_GRUPO', 'CO_CURSO',\n",
              "       'CO_MODALIDADE', 'CO_MUNIC_CURSO', 'CO_UF_CURSO', 'CO_REGIAO_CURSO',\n",
              "       ...\n",
              "       'QE_I59', 'QE_I60', 'QE_I61', 'QE_I62', 'QE_I63', 'QE_I64', 'QE_I65',\n",
              "       'QE_I66', 'QE_I67', 'QE_I68'],\n",
              "      dtype='object', length=137)"
            ]
          },
          "metadata": {
            "tags": []
          },
          "execution_count": 17
        }
      ]
    },
    {
      "cell_type": "code",
      "metadata": {
        "colab": {
          "base_uri": "https://localhost:8080/"
        },
        "id": "2RGJyEkLiMFF",
        "outputId": "ca7cdf2f-b7f3-410c-caa0-ffd5b74f2968"
      },
      "source": [
        "#selecionando apenas a linha 3 da coluna idade, lembrando que a contagem de linhas começa em 0\n",
        "df.loc[3, 'NU_IDADE'] "
      ],
      "execution_count": 24,
      "outputs": [
        {
          "output_type": "execute_result",
          "data": {
            "text/plain": [
              "24"
            ]
          },
          "metadata": {
            "tags": []
          },
          "execution_count": 24
        }
      ]
    },
    {
      "cell_type": "code",
      "metadata": {
        "colab": {
          "base_uri": "https://localhost:8080/"
        },
        "id": "Qn8ZTdXCgEeS",
        "outputId": "a467aa90-92ac-4ac1-d1bf-bdf528a45572"
      },
      "source": [
        "#região Norte = 1, região Nordeste = 2, região Sudeste = 3, região Sul= 4, região Centro-Oeste = 5\n",
        "df['CO_REGIAO_CURSO'].unique()"
      ],
      "execution_count": 19,
      "outputs": [
        {
          "output_type": "execute_result",
          "data": {
            "text/plain": [
              "array([5, 2, 1, 3, 4])"
            ]
          },
          "metadata": {
            "tags": []
          },
          "execution_count": 19
        }
      ]
    },
    {
      "cell_type": "code",
      "metadata": {
        "colab": {
          "base_uri": "https://localhost:8080/"
        },
        "id": "9T6b41EQdiQt",
        "outputId": "30c603b2-2480-4b30-ed33-881063404196"
      },
      "source": [
        "#considerando apenas pessoas presentes com resultado válido no estado de MS, que tinham mais de 50 anos de idade\n",
        "cont = 0\n",
        "for i, j in enumerate(df['NU_IDADE']):\n",
        "  if df.loc[i,'TP_PRES']==555 and df.loc[i, 'CO_UF_CURSO']==50:\n",
        "    if j > 50:\n",
        "      cont+=1\n",
        "print(\"{} pessoas maiores de 50 anos estavam presentes e receberam resultado válido no MS\".format(cont))"
      ],
      "execution_count": 26,
      "outputs": [
        {
          "output_type": "stream",
          "text": [
            "0 pessoas maiores de 50 anos estavam presentes e receberam resultado válido\n"
          ],
          "name": "stdout"
        }
      ]
    },
    {
      "cell_type": "code",
      "metadata": {
        "colab": {
          "base_uri": "https://localhost:8080/"
        },
        "id": "DiUlTTlkkphk",
        "outputId": "e27b805a-be6f-4873-ca13-63a9afcc9a79"
      },
      "source": [
        "#considerando todos com mais 50 anos na região de BA\n",
        "cont = 0\n",
        "for i, j in enumerate(df['NU_IDADE']):\n",
        "  if df.loc[i, 'CO_UF_CURSO']==29 and j>50:\n",
        "    cont+=1\n",
        "print(\"{} pessoas maiores de 50 anos cadastradas no ENADE 2019 na região da Bahia\".format(cont))\n"
      ],
      "execution_count": 27,
      "outputs": [
        {
          "output_type": "stream",
          "text": [
            "4 pessoas maiores de 50 anos cadastradas no ENADE 2019 na região da Bahia\n"
          ],
          "name": "stdout"
        }
      ]
    },
    {
      "cell_type": "code",
      "metadata": {
        "colab": {
          "base_uri": "https://localhost:8080/"
        },
        "id": "3B4wypIHltgg",
        "outputId": "7de724d1-94ad-4ed1-d94e-96cb080391f9"
      },
      "source": [
        "#media das idades\n",
        "df['NU_IDADE'].mean()"
      ],
      "execution_count": 28,
      "outputs": [
        {
          "output_type": "execute_result",
          "data": {
            "text/plain": [
              "26.153505374261645"
            ]
          },
          "metadata": {
            "tags": []
          },
          "execution_count": 28
        }
      ]
    },
    {
      "cell_type": "code",
      "metadata": {
        "colab": {
          "base_uri": "https://localhost:8080/"
        },
        "id": "vavHbbp0nAUs",
        "outputId": "2e0eec25-6851-4c9f-9ca5-10b11736f84d"
      },
      "source": [
        "df.shape"
      ],
      "execution_count": 29,
      "outputs": [
        {
          "output_type": "execute_result",
          "data": {
            "text/plain": [
              "(41308, 137)"
            ]
          },
          "metadata": {
            "tags": []
          },
          "execution_count": 29
        }
      ]
    },
    {
      "cell_type": "code",
      "metadata": {
        "colab": {
          "base_uri": "https://localhost:8080/"
        },
        "id": "XfQcZJl6oDKQ",
        "outputId": "a423f20b-aae4-4994-8cb0-cee586f87a01"
      },
      "source": [
        "#CO_RS_I3 é o atributo para pergunta: Considerando a extensão da prova, em relação ao tempo total, você considera que a prova foi:\n",
        "#A = muito longa, B = Longa, C = Adequada, D = Curta, E = Muito Curta, * = resposta anulada, vazio = sem resposta\n",
        "\n",
        "#vamos verificar quantas pessoas acharam a prova \"curta\"\n",
        "resp = 0\n",
        "for i in df['CO_RS_I3']:\n",
        "  if i == 'D':\n",
        "    resp += 1\n",
        "print(\"{} pessoas acharam a prova curta\".format(resp))"
      ],
      "execution_count": 31,
      "outputs": [
        {
          "output_type": "stream",
          "text": [
            "2182 pessoas acharam a prova curta\n"
          ],
          "name": "stdout"
        }
      ]
    },
    {
      "cell_type": "code",
      "metadata": {
        "colab": {
          "base_uri": "https://localhost:8080/"
        },
        "id": "VVWjj7ufqLy0",
        "outputId": "1a577457-36e4-441a-f580-3ec316a876bc"
      },
      "source": [
        "df['CO_RS_I3'].head()"
      ],
      "execution_count": 32,
      "outputs": [
        {
          "output_type": "execute_result",
          "data": {
            "text/plain": [
              "0    C\n",
              "1    B\n",
              "2     \n",
              "3    C\n",
              "4     \n",
              "Name: CO_RS_I3, dtype: object"
            ]
          },
          "metadata": {
            "tags": []
          },
          "execution_count": 32
        }
      ]
    }
  ]
}